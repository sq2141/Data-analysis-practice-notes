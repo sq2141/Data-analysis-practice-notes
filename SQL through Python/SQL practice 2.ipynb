{
 "cells": [
  {
   "cell_type": "code",
   "execution_count": 1,
   "metadata": {},
   "outputs": [],
   "source": [
    "import sqlite3\n",
    "conn = sqlite3.connect(':memory:')\n",
    "c = conn.cursor()"
   ]
  },
  {
   "cell_type": "code",
   "execution_count": 2,
   "metadata": {},
   "outputs": [
    {
     "data": {
      "text/plain": [
       "<sqlite3.Cursor at 0x10fdcd1f0>"
      ]
     },
     "execution_count": 2,
     "metadata": {},
     "output_type": "execute_result"
    }
   ],
   "source": [
    "# Triple quotation marks allow code to continue after line break\n",
    "c.execute(\"\"\"CREATE TABLE food_table (id INTEGER PRIMARY KEY AUTOINCREMENT, \n",
    "          name TEXT, cost INTEGER, calories INTEGER, weight INTEGER)\"\"\")"
   ]
  },
  {
   "cell_type": "code",
   "execution_count": 3,
   "metadata": {},
   "outputs": [
    {
     "data": {
      "text/plain": [
       "[(1, u'pizza', 3, 500, 3),\n",
       " (2, u'burger', 8, 800, None),\n",
       " (3, u'fries', 4, 600, 1),\n",
       " (4, u'fries', 5, 700, 1),\n",
       " (5, u'broccoli', 1, 20, 4),\n",
       " (6, u'broccoli', 3, 20, 4)]"
      ]
     },
     "execution_count": 3,
     "metadata": {},
     "output_type": "execute_result"
    }
   ],
   "source": [
    "# Insert rows in an alternative way, allows some values to be left unfilled\n",
    "c.execute(\"\"\"INSERT INTO food_table(name, cost, calories, weight) VALUES('pizza', 3, 500, 3)\"\"\")\n",
    "c.execute(\"\"\"INSERT INTO food_table(name, cost, calories) VALUES('burger', 8, 800)\"\"\")\n",
    "c.execute(\"\"\"INSERT INTO food_table(name, cost, calories, weight) VALUES('fries', 4, 600, 1)\"\"\")\n",
    "c.execute(\"\"\"INSERT INTO food_table(name, cost, calories, weight) VALUES('fries', 5, 700, 1)\"\"\")\n",
    "c.execute(\"\"\"INSERT INTO food_table(name, cost, calories, weight) VALUES('broccoli', 1, 20, 4)\"\"\")\n",
    "c.execute(\"\"\"INSERT INTO food_table(name, cost, calories, weight) VALUES('broccoli', 3, 20, 4)\"\"\")\n",
    "\n",
    "\n",
    "c.execute(\"SELECT * FROM food_table\")\n",
    "c.fetchall()"
   ]
  },
  {
   "cell_type": "code",
   "execution_count": 4,
   "metadata": {},
   "outputs": [
    {
     "data": {
      "text/plain": [
       "[(1, u'pizza', 3, 500, 3), (3, u'fries', 4, 600, 1)]"
      ]
     },
     "execution_count": 4,
     "metadata": {},
     "output_type": "execute_result"
    }
   ],
   "source": [
    "# Select ... WHERE a AND b\n",
    "c.execute(\"SELECT * FROM food_table WHERE calories > 300 AND cost < 5\")\n",
    "c.fetchall()"
   ]
  },
  {
   "cell_type": "code",
   "execution_count": 5,
   "metadata": {},
   "outputs": [
    {
     "data": {
      "text/plain": [
       "[(2, u'burger', 8, 800, None),\n",
       " (3, u'fries', 4, 600, 1),\n",
       " (4, u'fries', 5, 700, 1)]"
      ]
     },
     "execution_count": 5,
     "metadata": {},
     "output_type": "execute_result"
    }
   ],
   "source": [
    "c.execute(\"SELECT * FROM food_table WHERE calories > 700 OR weight = 1\")\n",
    "c.fetchall()"
   ]
  },
  {
   "cell_type": "code",
   "execution_count": 6,
   "metadata": {},
   "outputs": [
    {
     "data": {
      "text/plain": [
       "[(3, u'fries', 4, 600, 1),\n",
       " (4, u'fries', 5, 700, 1),\n",
       " (5, u'broccoli', 1, 20, 4),\n",
       " (6, u'broccoli', 3, 20, 4)]"
      ]
     },
     "execution_count": 6,
     "metadata": {},
     "output_type": "execute_result"
    }
   ],
   "source": [
    "# IN function, synonymous with 'containing'\n",
    "c.execute(\"SELECT * FROM food_table WHERE name IN('pizza','burger')\")\n",
    "c.execute(\"SELECT * FROM food_table WHERE name NOT IN('pizza','burger')\")\n",
    "c.fetchall()"
   ]
  },
  {
   "cell_type": "code",
   "execution_count": 7,
   "metadata": {},
   "outputs": [
    {
     "data": {
      "text/plain": [
       "[(u'pizza', u'great'),\n",
       " (u'burger', u'great'),\n",
       " (u'fries', u'great'),\n",
       " (u'broccoli', u'bad')]"
      ]
     },
     "execution_count": 7,
     "metadata": {},
     "output_type": "execute_result"
    }
   ],
   "source": [
    "# SELECTING based on values in a second table\n",
    "c.execute(\"CREATE TABLE taste_table (name TEXT, taste TEXT)\")\n",
    "c.execute(\"INSERT INTO taste_table(name, taste) VALUES('pizza','great')\")\n",
    "c.execute(\"INSERT INTO taste_table(name, taste) VALUES('burger','great')\")\n",
    "c.execute(\"INSERT INTO taste_table(name, taste) VALUES('fries','great')\")\n",
    "c.execute(\"INSERT INTO taste_table(name, taste) VALUES('broccoli','bad')\")\n",
    "c.execute(\"SELECT * FROM taste_table\")\n",
    "c.fetchall()"
   ]
  },
  {
   "cell_type": "code",
   "execution_count": 8,
   "metadata": {},
   "outputs": [
    {
     "data": {
      "text/plain": [
       "[(1, u'pizza', 3, 500, 3),\n",
       " (2, u'burger', 8, 800, None),\n",
       " (3, u'fries', 4, 600, 1),\n",
       " (4, u'fries', 5, 700, 1)]"
      ]
     },
     "execution_count": 8,
     "metadata": {},
     "output_type": "execute_result"
    }
   ],
   "source": [
    "# SELECT food_table items based on whether they are great in the taste_table (called subquerying)\n",
    "# using IN (synonymous with containing) as a nested function to first return the names of the foods\n",
    "c.execute(\"SELECT * FROM food_table WHERE name IN(SELECT name FROM taste_table WHERE taste = 'great')\")\n",
    "c.fetchall()"
   ]
  },
  {
   "cell_type": "code",
   "execution_count": 9,
   "metadata": {},
   "outputs": [
    {
     "data": {
      "text/plain": [
       "[(1, u'pizza', 3, 500, 3)]"
      ]
     },
     "execution_count": 9,
     "metadata": {},
     "output_type": "execute_result"
    }
   ],
   "source": [
    "# LIKE operator and % acts like a wildcard\n",
    "c.execute(\"SELECT * FROM food_table WHERE name LIKE('pizz%')\")\n",
    "c.fetchall()"
   ]
  },
  {
   "cell_type": "code",
   "execution_count": 11,
   "metadata": {},
   "outputs": [
    {
     "data": {
      "text/plain": [
       "[(u'broccoli', 40), (u'burger', 800), (u'fries', 1300), (u'pizza', 500)]"
      ]
     },
     "execution_count": 11,
     "metadata": {},
     "output_type": "execute_result"
    }
   ],
   "source": [
    "# AS renames aggregate functions, AS can also be used to create new columns (not shown here)\n",
    "c.execute(\"SELECT name, SUM(calories) AS Total_calories FROM food_table GROUP BY name\")\n",
    "c.fetchall()"
   ]
  },
  {
   "cell_type": "code",
   "execution_count": 12,
   "metadata": {},
   "outputs": [
    {
     "data": {
      "text/plain": [
       "[(u'fries', 1300)]"
      ]
     },
     "execution_count": 12,
     "metadata": {},
     "output_type": "execute_result"
    }
   ],
   "source": [
    "# HAVING applies a 'WHERE-like' condition on the grouped aggregate\n",
    "c.execute(\"SELECT name, SUM(calories) AS Total_calories FROM food_table GROUP BY name HAVING Total_calories > 1000\")\n",
    "c.fetchall()"
   ]
  },
  {
   "cell_type": "code",
   "execution_count": 14,
   "metadata": {},
   "outputs": [
    {
     "data": {
      "text/plain": [
       "[(u'broccoli',), (u'fries',)]"
      ]
     },
     "execution_count": 14,
     "metadata": {},
     "output_type": "execute_result"
    }
   ],
   "source": [
    "# Count aggregate function\n",
    "c.execute(\"SELECT name FROM food_TABLE GROUP BY name HAVING COUNT(*)>=2\")\n",
    "c.fetchall()"
   ]
  },
  {
   "cell_type": "code",
   "execution_count": 20,
   "metadata": {},
   "outputs": [
    {
     "data": {
      "text/plain": [
       "[(u'pizza', u'great', u'eat'),\n",
       " (u'burger', u'great', u'eat'),\n",
       " (u'fries', u'great', u'eat'),\n",
       " (u'broccoli', u'bad', u'do not eat')]"
      ]
     },
     "execution_count": 20,
     "metadata": {},
     "output_type": "execute_result"
    }
   ],
   "source": [
    "# CASE function is like 'If'. Can use it to build new columns\n",
    "c.execute(\"\"\"SELECT\n",
    "          name, taste,\n",
    "              CASE\n",
    "                  WHEN taste = 'great' THEN 'eat'\n",
    "                  WHEN taste = 'bad' THEN 'do not eat'\n",
    "              END AS 'decision'\n",
    "          FROM taste_table\"\"\")\n",
    "c.fetchall()"
   ]
  },
  {
   "cell_type": "code",
   "execution_count": null,
   "metadata": {
    "collapsed": true
   },
   "outputs": [],
   "source": []
  }
 ],
 "metadata": {
  "kernelspec": {
   "display_name": "Python 2",
   "language": "python",
   "name": "python2"
  },
  "language_info": {
   "codemirror_mode": {
    "name": "ipython",
    "version": 2
   },
   "file_extension": ".py",
   "mimetype": "text/x-python",
   "name": "python",
   "nbconvert_exporter": "python",
   "pygments_lexer": "ipython2",
   "version": "2.7.13"
  }
 },
 "nbformat": 4,
 "nbformat_minor": 2
}
