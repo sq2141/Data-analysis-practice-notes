{
 "cells": [
  {
   "cell_type": "code",
   "execution_count": 1,
   "metadata": {},
   "outputs": [],
   "source": [
    "import sqlite3\n",
    "conn = sqlite3.connect(':memory:')\n",
    "c = conn.cursor()"
   ]
  },
  {
   "cell_type": "code",
   "execution_count": 2,
   "metadata": {},
   "outputs": [],
   "source": [
    "# Create table 1: lab_table\n",
    "c.execute(\"CREATE TABLE lab_table (id INTEGER PRIMARY KEY AUTOINCREMENT, first TEXT, last TEXT, pay INTEGER)\")\n",
    "new_member = [('Sam', 'Qian', 37000),\n",
    "              ('Sam', 'Galindo', 39000),\n",
    "              ('Anita','Burgos', 45000),\n",
    "              ('Rebecca','Vaadia',38000),\n",
    "              ('Rotation','Student', 36000)]\n",
    "for i in new_member:\n",
    "    c.execute(\"INSERT INTO lab_table(first, last, pay) VALUES (?, ?, ?)\", i)"
   ]
  },
  {
   "cell_type": "code",
   "execution_count": 3,
   "metadata": {},
   "outputs": [
    {
     "data": {
      "text/plain": [
       "[(1, u'Sam', u'Qian', 37000),\n",
       " (2, u'Sam', u'Galindo', 39000),\n",
       " (3, u'Anita', u'Burgos', 45000),\n",
       " (4, u'Rebecca', u'Vaadia', 38000),\n",
       " (5, u'Rotation', u'Student', 36000)]"
      ]
     },
     "execution_count": 3,
     "metadata": {},
     "output_type": "execute_result"
    }
   ],
   "source": [
    "c.execute(\"SELECT * FROM lab_table\")\n",
    "c.fetchall()"
   ]
  },
  {
   "cell_type": "code",
   "execution_count": 4,
   "metadata": {},
   "outputs": [],
   "source": [
    "# Create table 2: experiments_table\n",
    "c.execute(\"CREATE TABLE experiments_table (member_id INTEGER, experiment TEXT)\")\n",
    "experiments = [(1, 'td'),\n",
    "              (2, 'axon tiling'),\n",
    "              (2, 'dscam2'),\n",
    "              (3, 'dnb'),\n",
    "              (3, 'basigin',),\n",
    "              (4, 'scape'),\n",
    "              (4, 'compartment')]\n",
    "\n",
    "for i in experiments:\n",
    "    c.execute(\"INSERT INTO experiments_table(member_id, experiment) VALUES(?, ?)\", i)"
   ]
  },
  {
   "cell_type": "code",
   "execution_count": 5,
   "metadata": {},
   "outputs": [
    {
     "data": {
      "text/plain": [
       "[(1, u'td'),\n",
       " (2, u'axon tiling'),\n",
       " (2, u'dscam2'),\n",
       " (3, u'dnb'),\n",
       " (3, u'basigin'),\n",
       " (4, u'scape'),\n",
       " (4, u'compartment')]"
      ]
     },
     "execution_count": 5,
     "metadata": {},
     "output_type": "execute_result"
    }
   ],
   "source": [
    "c.execute(\"SELECT * FROM experiments_table\")\n",
    "c.fetchall()"
   ]
  },
  {
   "cell_type": "code",
   "execution_count": 6,
   "metadata": {},
   "outputs": [
    {
     "data": {
      "text/plain": [
       "<sqlite3.Cursor at 0x108803500>"
      ]
     },
     "execution_count": 6,
     "metadata": {},
     "output_type": "execute_result"
    }
   ],
   "source": [
    "# cross join. the least useful and dumbest join. For each row in the first table, it populates all the rows\n",
    "# of the second table\n",
    "c.execute(\"SELECT * FROM lab_table, experiments_table\")"
   ]
  },
  {
   "cell_type": "code",
   "execution_count": 7,
   "metadata": {},
   "outputs": [
    {
     "data": {
      "text/plain": [
       "[(1, u'Sam', u'Qian', 37000, 1, u'td'),\n",
       " (2, u'Sam', u'Galindo', 39000, 2, u'axon tiling'),\n",
       " (2, u'Sam', u'Galindo', 39000, 2, u'dscam2'),\n",
       " (3, u'Anita', u'Burgos', 45000, 3, u'dnb'),\n",
       " (3, u'Anita', u'Burgos', 45000, 3, u'basigin'),\n",
       " (4, u'Rebecca', u'Vaadia', 38000, 4, u'scape'),\n",
       " (4, u'Rebecca', u'Vaadia', 38000, 4, u'compartment')]"
      ]
     },
     "execution_count": 7,
     "metadata": {},
     "output_type": "execute_result"
    }
   ],
   "source": [
    "# implicit inner join is more useful. For each row in the first table, it only populates the rows of the \n",
    "# second table where the value in key identifier columns are the same\n",
    "c.execute(\"SELECT * FROM lab_table, experiments_table WHERE lab_table.id = experiments_table.member_id\")\n",
    "c.fetchall()"
   ]
  },
  {
   "cell_type": "code",
   "execution_count": 8,
   "metadata": {},
   "outputs": [
    {
     "data": {
      "text/plain": [
       "[(1, u'Sam', u'Qian', 37000, 1, u'td'),\n",
       " (2, u'Sam', u'Galindo', 39000, 2, u'axon tiling'),\n",
       " (2, u'Sam', u'Galindo', 39000, 2, u'dscam2'),\n",
       " (3, u'Anita', u'Burgos', 45000, 3, u'dnb'),\n",
       " (3, u'Anita', u'Burgos', 45000, 3, u'basigin'),\n",
       " (4, u'Rebecca', u'Vaadia', 38000, 4, u'scape'),\n",
       " (4, u'Rebecca', u'Vaadia', 38000, 4, u'compartment')]"
      ]
     },
     "execution_count": 8,
     "metadata": {},
     "output_type": "execute_result"
    }
   ],
   "source": [
    "# EXPLICIT inner join is the better practice for joining (gives the same results as implicit join)\n",
    "c.execute(\"\"\"SELECT * FROM lab_table\n",
    "          JOIN experiments_table\n",
    "          ON lab_table.id = experiments_table.member_id\"\"\")\n",
    "c.fetchall()"
   ]
  },
  {
   "cell_type": "code",
   "execution_count": 9,
   "metadata": {},
   "outputs": [
    {
     "data": {
      "text/plain": [
       "[(1, u'Sam', u'Qian', 37000, 1, u'td'),\n",
       " (2, u'Sam', u'Galindo', 39000, 2, u'axon tiling'),\n",
       " (2, u'Sam', u'Galindo', 39000, 2, u'dscam2')]"
      ]
     },
     "execution_count": 9,
     "metadata": {},
     "output_type": "execute_result"
    }
   ],
   "source": [
    "# join can be combined with WHERE\n",
    "c.execute(\"\"\"SELECT * FROM lab_table\n",
    "          JOIN experiments_table\n",
    "          ON lab_table.id = experiments_table.member_id\n",
    "          WHERE first = 'Sam'\"\"\")\n",
    "c.fetchall()"
   ]
  },
  {
   "cell_type": "code",
   "execution_count": 10,
   "metadata": {},
   "outputs": [
    {
     "data": {
      "text/plain": [
       "[(1, u'Sam', u'Qian', 37000, 1, u'td'),\n",
       " (2, u'Sam', u'Galindo', 39000, 2, u'axon tiling'),\n",
       " (2, u'Sam', u'Galindo', 39000, 2, u'dscam2'),\n",
       " (3, u'Anita', u'Burgos', 45000, 3, u'basigin'),\n",
       " (3, u'Anita', u'Burgos', 45000, 3, u'dnb'),\n",
       " (4, u'Rebecca', u'Vaadia', 38000, 4, u'compartment'),\n",
       " (4, u'Rebecca', u'Vaadia', 38000, 4, u'scape'),\n",
       " (5, u'Rotation', u'Student', 36000, None, None)]"
      ]
     },
     "execution_count": 10,
     "metadata": {},
     "output_type": "execute_result"
    }
   ],
   "source": [
    "# while inner join only produces a row if it finds values matching in both tables,\n",
    "# outer join produces a row regardless of whether it exists in the other table\n",
    "c.execute(\"\"\"SELECT * FROM lab_table\n",
    "          OUTER LEFT JOIN experiments_table\n",
    "          ON lab_table.id = experiments_table.member_id\"\"\")\n",
    "c.fetchall()"
   ]
  },
  {
   "cell_type": "code",
   "execution_count": 11,
   "metadata": {},
   "outputs": [
    {
     "data": {
      "text/plain": [
       "[(1, u'campari'),\n",
       " (2, u'axon tiling'),\n",
       " (2, u'dscam2'),\n",
       " (3, u'dnb'),\n",
       " (3, u'basigin'),\n",
       " (4, u'scape'),\n",
       " (4, u'compartment')]"
      ]
     },
     "execution_count": 11,
     "metadata": {},
     "output_type": "execute_result"
    }
   ],
   "source": [
    "# Changing values with UPDATE\n",
    "c.execute(\"UPDATE experiments_table SET experiment = 'campari' WHERE member_id = 1\" )\n",
    "c.execute(\"SELECT * FROM experiments_table\")\n",
    "c.fetchall()"
   ]
  },
  {
   "cell_type": "code",
   "execution_count": 12,
   "metadata": {},
   "outputs": [
    {
     "data": {
      "text/plain": [
       "[(2, u'axon tiling'),\n",
       " (2, u'dscam2'),\n",
       " (3, u'dnb'),\n",
       " (3, u'basigin'),\n",
       " (4, u'scape'),\n",
       " (4, u'compartment')]"
      ]
     },
     "execution_count": 12,
     "metadata": {},
     "output_type": "execute_result"
    }
   ],
   "source": [
    "# Deleting rows. In practice, rows are never actually deleted (to prevent accidentally deletion), instead\n",
    "# there is a column named 'deleted', that can be set to True to be excluded from querying by an app's user for example\n",
    "c.execute(\"DELETE FROM experiments_table WHERE experiment = 'campari'\" )\n",
    "c.execute(\"SELECT * FROM experiments_table\")\n",
    "c.fetchall()"
   ]
  },
  {
   "cell_type": "code",
   "execution_count": 13,
   "metadata": {},
   "outputs": [
    {
     "data": {
      "text/plain": [
       "[(2, u'axon tiling', 12),\n",
       " (2, u'dscam2', 12),\n",
       " (3, u'dnb', 12),\n",
       " (3, u'basigin', 12),\n",
       " (4, u'scape', 12),\n",
       " (4, u'compartment', 12)]"
      ]
     },
     "execution_count": 13,
     "metadata": {},
     "output_type": "execute_result"
    }
   ],
   "source": [
    "# Adding a new column to existing table (and filling it with a default value)\n",
    "c.execute(\"ALTER TABLE experiments_table ADD timeline_months INTEGER DEFAULT 12\")\n",
    "c.execute(\"SELECT * FROM experiments_table\")\n",
    "c.fetchall()"
   ]
  },
  {
   "cell_type": "code",
   "execution_count": 14,
   "metadata": {},
   "outputs": [
    {
     "data": {
      "text/plain": [
       "[(2, u'axon tiling', 12),\n",
       " (2, u'dscam2', 12),\n",
       " (3, u'dnb', 12),\n",
       " (3, u'basigin', 12),\n",
       " (4, u'scape', 12),\n",
       " (4, u'compartment', 12)]"
      ]
     },
     "execution_count": 14,
     "metadata": {},
     "output_type": "execute_result"
    }
   ],
   "source": [
    "# Rarely use this, but deleting an entire table\n",
    "# c.execute(\"DROP TABLE experiments_table\")\n",
    "c.execute(\"SELECT * FROM experiments_table\")\n",
    "c.fetchall()"
   ]
  },
  {
   "cell_type": "code",
   "execution_count": null,
   "metadata": {
    "collapsed": true
   },
   "outputs": [],
   "source": [
    "# Joining tables to themselves with self-join. Skipped"
   ]
  }
 ],
 "metadata": {
  "kernelspec": {
   "display_name": "Python 2",
   "language": "python",
   "name": "python2"
  },
  "language_info": {
   "codemirror_mode": {
    "name": "ipython",
    "version": 2
   },
   "file_extension": ".py",
   "mimetype": "text/x-python",
   "name": "python",
   "nbconvert_exporter": "python",
   "pygments_lexer": "ipython2",
   "version": "2.7.13"
  }
 },
 "nbformat": 4,
 "nbformat_minor": 2
}
