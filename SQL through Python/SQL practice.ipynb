{
 "cells": [
  {
   "cell_type": "code",
   "execution_count": 1,
   "metadata": {},
   "outputs": [],
   "source": [
    "import sqlite3\n",
    "\n",
    "# connect (or create if doesnt exist) a local database, or use :memory: to run a databse in memory and not save it\n",
    "# conn = sqlite3.connect('my_test_database.db')\n",
    "conn = sqlite3.connect(':memory:')\n",
    "\n",
    "# define the cursor used to do things in SQL\n",
    "c = conn.cursor()"
   ]
  },
  {
   "cell_type": "code",
   "execution_count": 2,
   "metadata": {},
   "outputs": [
    {
     "data": {
      "text/plain": [
       "<sqlite3.Cursor at 0x10c423500>"
      ]
     },
     "execution_count": 2,
     "metadata": {},
     "output_type": "execute_result"
    }
   ],
   "source": [
    "# use c.execute to run SQL commands\n",
    "# SQL commands are not case sensitive but it's convention to write them in UPPERCASE\n",
    "c.execute(\"CREATE TABLE lab_members (id INTEGER PRIMARY KEY, first TEXT, last TEXT, pay INTEGER)\")"
   ]
  },
  {
   "cell_type": "code",
   "execution_count": 3,
   "metadata": {},
   "outputs": [],
   "source": [
    "# Inserting new entries\n",
    "c.execute(\"INSERT INTO lab_members VALUES (1, 'Sam', 'Qian', 37000)\")\n",
    "c.execute(\"INSERT INTO lab_members VALUES (2, 'Sam', 'Galindo', 39000)\")\n",
    "\n",
    "# Sometimes you'd want to insert using variables in python, in this case use the ? substitution\n",
    "new_member = [(3, 'Anita','Burgos', 45000),(4, 'Rebecca','Vaadia',38000)]\n",
    "for i in new_member:\n",
    "    c.execute(\"INSERT INTO lab_members VALUES (?, ?, ?, ?)\", i)"
   ]
  },
  {
   "cell_type": "code",
   "execution_count": 4,
   "metadata": {},
   "outputs": [
    {
     "data": {
      "text/plain": [
       "[(1, u'Sam', u'Qian', 37000), (2, u'Sam', u'Galindo', 39000)]"
      ]
     },
     "execution_count": 4,
     "metadata": {},
     "output_type": "execute_result"
    }
   ],
   "source": [
    "# Selecting entries (SELECT is synonyous with view)\n",
    "c.execute(\"SELECT * FROM lab_members WHERE first='Sam'\")\n",
    "c.fetchall()"
   ]
  },
  {
   "cell_type": "code",
   "execution_count": 5,
   "metadata": {
    "scrolled": true
   },
   "outputs": [
    {
     "data": {
      "text/plain": [
       "[(1, u'Sam', u'Qian', 37000),\n",
       " (2, u'Sam', u'Galindo', 39000),\n",
       " (3, u'Anita', u'Burgos', 45000),\n",
       " (4, u'Rebecca', u'Vaadia', 38000)]"
      ]
     },
     "execution_count": 5,
     "metadata": {},
     "output_type": "execute_result"
    }
   ],
   "source": [
    "# Selecting the whole table to view by ommitting WHERE ...\n",
    "c.execute(\"SELECT * FROM lab_members\")\n",
    "c.fetchall()"
   ]
  },
  {
   "cell_type": "code",
   "execution_count": 6,
   "metadata": {},
   "outputs": [
    {
     "data": {
      "text/plain": [
       "[(u'Sam',), (u'Sam',), (u'Anita',), (u'Rebecca',)]"
      ]
     },
     "execution_count": 6,
     "metadata": {},
     "output_type": "execute_result"
    }
   ],
   "source": [
    "# The SELECT * indicates selection of all columns\n",
    "# SELECT [name of column] will only select that column\n",
    "c.execute(\"SELECT first FROM lab_members\")\n",
    "c.fetchall()"
   ]
  },
  {
   "cell_type": "code",
   "execution_count": 7,
   "metadata": {},
   "outputs": [
    {
     "data": {
      "text/plain": [
       "[(1, u'Sam', u'Qian', 37000),\n",
       " (4, u'Rebecca', u'Vaadia', 38000),\n",
       " (2, u'Sam', u'Galindo', 39000),\n",
       " (3, u'Anita', u'Burgos', 45000)]"
      ]
     },
     "execution_count": 7,
     "metadata": {},
     "output_type": "execute_result"
    }
   ],
   "source": [
    "# ORDER BY to sort\n",
    "c.execute(\"SELECT * FROM lab_members ORDER BY pay\")\n",
    "c.fetchall()"
   ]
  },
  {
   "cell_type": "code",
   "execution_count": 8,
   "metadata": {},
   "outputs": [
    {
     "data": {
      "text/plain": [
       "[(159000,)]"
      ]
     },
     "execution_count": 8,
     "metadata": {},
     "output_type": "execute_result"
    }
   ],
   "source": [
    "# Using aggregate functions to get things like max, min, sum, average, etc...\n",
    "c.execute(\"SELECT SUM(pay) FROM lab_members\")\n",
    "c.fetchall()"
   ]
  },
  {
   "cell_type": "code",
   "execution_count": 9,
   "metadata": {},
   "outputs": [
    {
     "data": {
      "text/plain": [
       "[(u'Anita', 45000), (u'Rebecca', 38000), (u'Sam', 76000)]"
      ]
     },
     "execution_count": 9,
     "metadata": {},
     "output_type": "execute_result"
    }
   ],
   "source": [
    "# Using Groupby clause at the end of a query to collapse rows for aggregate functions calculators\n",
    "c.execute(\"SELECT first, SUM(pay) FROM lab_members GROUP BY first\")\n",
    "c.fetchall()"
   ]
  },
  {
   "cell_type": "code",
   "execution_count": null,
   "metadata": {
    "collapsed": true
   },
   "outputs": [],
   "source": []
  }
 ],
 "metadata": {
  "kernelspec": {
   "display_name": "Python 2",
   "language": "python",
   "name": "python2"
  },
  "language_info": {
   "codemirror_mode": {
    "name": "ipython",
    "version": 2
   },
   "file_extension": ".py",
   "mimetype": "text/x-python",
   "name": "python",
   "nbconvert_exporter": "python",
   "pygments_lexer": "ipython2",
   "version": "2.7.13"
  }
 },
 "nbformat": 4,
 "nbformat_minor": 2
}
